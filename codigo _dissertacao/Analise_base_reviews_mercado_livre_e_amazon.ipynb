{
  "cells": [
    {
      "cell_type": "code",
      "execution_count": null,
      "metadata": {
        "id": "ZDYYqjKLrKJ8"
      },
      "outputs": [],
      "source": [
        "import pandas as pd"
      ]
    },
    {
      "cell_type": "code",
      "execution_count": null,
      "metadata": {
        "id": "hKNCaT2Q2uc2"
      },
      "outputs": [],
      "source": [
        "import matplotlib.pyplot as plt"
      ]
    },
    {
      "cell_type": "code",
      "execution_count": null,
      "metadata": {
        "id": "64zabRm6rQ-t"
      },
      "outputs": [],
      "source": [
        "from google.colab import drive\n",
        "drive.mount('/content/drive')"
      ]
    },
    {
      "cell_type": "code",
      "execution_count": null,
      "metadata": {
        "id": "JLamjbpjrSjg"
      },
      "outputs": [],
      "source": [
        "df = pd.read_csv('')"
      ]
    },
    {
      "cell_type": "code",
      "execution_count": null,
      "metadata": {
        "id": "Q7Bk4nwerV_m"
      },
      "outputs": [],
      "source": [
        "df"
      ]
    },
    {
      "cell_type": "code",
      "source": [
        "# Converter a coluna 'estrelas' para o tipo float\n",
        "df['estrelas'] = df['estrelas'].astype(float)"
      ],
      "metadata": {
        "id": "NwwGevzOhexV"
      },
      "execution_count": null,
      "outputs": []
    },
    {
      "cell_type": "code",
      "source": [
        "# Filtrar o DataFrame para mostrar as linhas onde a coluna 'Produto' está vazia\n",
        "linhas_produto_vazio = df[df['Produto'].isna() | (df['Produto'] == '')]\n",
        "\n",
        "# Exibir as linhas\n",
        "print(linhas_produto_vazio)\n"
      ],
      "metadata": {
        "id": "_Tv_905qgPHQ"
      },
      "execution_count": null,
      "outputs": []
    },
    {
      "cell_type": "code",
      "execution_count": null,
      "metadata": {
        "id": "_v97afDN2IZ1"
      },
      "outputs": [],
      "source": [
        "# Verificar o tipo da coluna 'date'\n",
        "print(df['date'].dtype)"
      ]
    },
    {
      "cell_type": "code",
      "execution_count": null,
      "metadata": {
        "id": "3K1-ynfG2JIu"
      },
      "outputs": [],
      "source": [
        "# Se não estiver no formato datetime, converta-a\n",
        "df['date'] = pd.to_datetime(df['date'])"
      ]
    },
    {
      "cell_type": "code",
      "execution_count": null,
      "metadata": {
        "id": "r7t4ylLc4FRA"
      },
      "outputs": [],
      "source": [
        "# Substituir os valores na coluna gptpt\n",
        "df['gptpt'] = df['gptpt'].replace({-1: 'Negativo', 0: 'Neutro', 1: 'Positivo'})"
      ]
    },
    {
      "cell_type": "code",
      "execution_count": null,
      "metadata": {
        "id": "UmaGHzqzxaFV"
      },
      "outputs": [],
      "source": [
        "df['Marca'] = df['Marca'].str.upper()"
      ]
    },
    {
      "cell_type": "code",
      "execution_count": null,
      "metadata": {
        "id": "gLIz-il_yz0u"
      },
      "outputs": [],
      "source": [
        "df['Produto'] = df['Produto'].str.upper()"
      ]
    },
    {
      "cell_type": "code",
      "execution_count": null,
      "metadata": {
        "id": "9sJfyxJWCGHO"
      },
      "outputs": [],
      "source": [
        "print(df.Marca.value_counts())"
      ]
    },
    {
      "cell_type": "code",
      "execution_count": null,
      "metadata": {
        "id": "5YsEUUfGHvQ0"
      },
      "outputs": [],
      "source": [
        "df.rename(columns={'gptpt': 'Sentimento'}, inplace=True)"
      ]
    },
    {
      "cell_type": "markdown",
      "metadata": {
        "id": "SZBilq530cRi"
      },
      "source": [
        "Gráficos de Polaridade: Crie gráficos de barras ou gráficos de pizza para mostrar a distribuição de sentimentos (positivo, neutro, negativo) por marca e por produto."
      ]
    },
    {
      "cell_type": "code",
      "source": [
        "import matplotlib.pyplot as plt\n",
        "\n",
        "# Agrupar por Marca e Sentimento (polaridade)\n",
        "sentimento_marca = df.groupby(['Marca', 'Sentimento']).size().unstack().fillna(0)\n",
        "\n",
        "# Ajustar o tamanho do gráfico\n",
        "plt.figure(figsize=(16, 10))  # Aumentar o tamanho do gráfico\n",
        "ax = sentimento_marca.plot(kind='bar', stacked=True, figsize=(12, 8))\n",
        "plt.title('Distribuição de Sentimentos por Marca')\n",
        "plt.xlabel('Marca')\n",
        "plt.ylabel('Quantidade')\n",
        "plt.xticks(rotation=90, ha='right')  # Rotacionar os nomes para facilitar a leitura\n",
        "\n",
        "# Adicionar rótulos nas barras empilhadas\n",
        "for p in ax.patches:\n",
        "    width = p.get_width()\n",
        "    height = p.get_height()\n",
        "    x, y = p.get_xy()\n",
        "\n",
        "plt.show()\n",
        "\n",
        "# Função personalizada para mostrar a quantidade\n",
        "def mostrar_quantidade(val):\n",
        "    a = int(val/100.*sum(sentimento_marca.loc[marca]))\n",
        "    return f'{a}'\n",
        "\n",
        "# Criar gráfico de pizza para cada Marca\n",
        "for marca in sentimento_marca.index:\n",
        "    sentimento_marca.loc[marca].plot(kind='pie', autopct=mostrar_quantidade, startangle=90)\n",
        "    plt.title(f'Distribuição de Sentimentos - {marca}')\n",
        "    plt.ylabel('')  # Remover label desnecessária\n",
        "    plt.show()\n",
        "\n"
      ],
      "metadata": {
        "id": "6fJ-3I24Pogs"
      },
      "execution_count": null,
      "outputs": []
    },
    {
      "cell_type": "code",
      "execution_count": null,
      "metadata": {
        "id": "ljh9NcnA1-xk"
      },
      "outputs": [],
      "source": [
        "# Agrupar por Produto e gptpt (polaridade)\n",
        "sentimento_produto = df.groupby(['Produto', 'Sentimento']).size().unstack().fillna(0)\n",
        "\n",
        "# Criar gráfico de barras\n",
        "plt.figure(figsize=(12, 8))  # Aumentar o tamanho do gráfico\n",
        "sentimento_produto.plot(kind='bar', stacked=True, figsize=(12, 8))\n",
        "plt.title('Distribuição de Sentimentos por Produto')\n",
        "plt.xlabel('Produto')\n",
        "plt.ylabel('Quantidade')\n",
        "plt.xticks(rotation=90, ha='right')  # Rotacionar os nomes para facilitar a leitura\n",
        "plt.show()\n",
        "\n",
        "# Função personalizada para mostrar a quantidade\n",
        "def mostrar_quantidade(val):\n",
        "    a = int(val/100.*sum(sentimento_produto.loc[produto]))\n",
        "    return f'{a}'\n",
        "\n",
        "# Criar gráfico de pizza para cada Produto\n",
        "for produto in sentimento_produto.index:\n",
        "    sentimento_produto.loc[produto].plot(kind='pie', autopct=mostrar_quantidade, startangle=90)\n",
        "    plt.title(f'Distribuição de Sentimentos - {produto}')\n",
        "    plt.ylabel('')  # Remover label desnecessária\n",
        "    plt.show()\n",
        "\n"
      ]
    },
    {
      "cell_type": "markdown",
      "metadata": {
        "id": "t2D7-EI10cPC"
      },
      "source": [
        "Tendências de Sentimentos: Mostre a evolução dos sentimentos ao longo do tempo para cada marca. Use gráficos de linha para destacar períodos com aumento de sentimentos negativos ou positivos."
      ]
    },
    {
      "cell_type": "code",
      "execution_count": null,
      "metadata": {
        "id": "kXF4Zb4e1_g7"
      },
      "outputs": [],
      "source": [
        "# Agrupar por Marca, data e sentimento\n",
        "sentimento_tempo = df.groupby([df['date'].dt.to_period('M'), 'Marca', 'Sentimento']).size().unstack().fillna(0)\n",
        "\n",
        "# Criar gráfico de linha para cada Marca\n",
        "for marca in df['Marca'].unique():\n",
        "    sentimento_tempo_marca = sentimento_tempo.xs(marca, level='Marca')\n",
        "\n",
        "    # Plotar gráfico de linha\n",
        "    ax = sentimento_tempo_marca.plot(kind='line', figsize=(12, 8), marker='o')\n",
        "    plt.title(f'Evolução dos Sentimentos ao Longo do Tempo - {marca}')\n",
        "    plt.xlabel('Tempo')\n",
        "    plt.ylabel('Quantidade')\n",
        "    plt.xticks(rotation=45)\n",
        "    plt.grid(True)\n",
        "\n",
        "    # Adicionar rótulos nos pontos do gráfico\n",
        "    for i in range(len(sentimento_tempo_marca)):\n",
        "        for sentimento in sentimento_tempo_marca.columns:\n",
        "            y = sentimento_tempo_marca.iloc[i][sentimento]\n",
        "            if y > 0:  # Exibir apenas para pontos com valores positivos\n",
        "                ax.text(sentimento_tempo_marca.index[i], y, f'{int(y)}', ha='center', va='bottom')\n",
        "\n",
        "    # Garantir que os valores do eixo Y sejam inteiros\n",
        "    ax.yaxis.get_major_locator().set_params(integer=True)\n",
        "\n",
        "    plt.show()"
      ]
    },
    {
      "cell_type": "markdown",
      "metadata": {
        "id": "zjyo5x9l0cMa"
      },
      "source": [
        "Gráficos Temporais: Crie gráficos que mostrem o número de avaliações por mês ou trimestre. Isso pode ajudar a identificar picos de avaliações, que podem estar associados a campanhas de marketing ou lançamentos de produtos.\n",
        "\n",
        "Correlacionar com Campanhas: Se possível, correlacione esses picos com campanhas de marketing ou eventos sazonais."
      ]
    },
    {
      "cell_type": "code",
      "execution_count": null,
      "metadata": {
        "id": "1DcCtt-l2AJj"
      },
      "outputs": [],
      "source": [
        "# Agrupar por marca e trimestre\n",
        "avaliacoes_por_trimestre_marca = df.groupby([df['date'].dt.to_period('Q'), 'Marca']).size().unstack().fillna(0)\n",
        "\n",
        "# Criar gráfico de linha para cada marca mostrando avaliações por trimestre\n",
        "for marca in avaliacoes_por_trimestre_marca.columns:\n",
        "    plt.figure(figsize=(12, 8))\n",
        "    ax = avaliacoes_por_trimestre_marca[marca].plot(kind='line', marker='o')\n",
        "    plt.title(f'Número de Avaliações por Trimestre - {marca}')\n",
        "    plt.xlabel('Trimestre')\n",
        "    plt.ylabel('Número de Avaliações')\n",
        "    plt.xticks(rotation=45)\n",
        "    plt.grid(True)\n",
        "\n",
        "    # Adicionar rótulos nos pontos do gráfico\n",
        "    for i in range(len(avaliacoes_por_trimestre_marca)):\n",
        "        y = avaliacoes_por_trimestre_marca[marca].iloc[i]\n",
        "        if y > 0:  # Exibir apenas para pontos com valores positivos\n",
        "            ax.text(avaliacoes_por_trimestre_marca.index[i], y, f'{int(y)}', ha='center', va='bottom')\n",
        "\n",
        "    # Garantir que os valores do eixo Y sejam inteiros\n",
        "    ax.yaxis.get_major_locator().set_params(integer=True)\n",
        "\n",
        "    plt.show()"
      ]
    },
    {
      "cell_type": "markdown",
      "metadata": {
        "id": "_9l9I5cB0cJk"
      },
      "source": [
        "Análise de Sentimentos Negativos: Faça uma análise mais profunda das avaliações negativas para identificar problemas comuns mencionados pelos clientes. Use nuvens de palavras para visualizar as principais queixas.\n",
        "\n",
        "Oportunidades de Melhoria: Baseado nas avaliações negativas e neutras, sugira melhorias para produtos específicos."
      ]
    },
    {
      "cell_type": "code",
      "execution_count": null,
      "metadata": {
        "id": "zEk-tCnj2Aqu"
      },
      "outputs": [],
      "source": [
        "# Filtrar as avaliações negativas\n",
        "df_negativas = df[df['Sentimento'] == 'Negativo']\n"
      ]
    },
    {
      "cell_type": "code",
      "execution_count": null,
      "metadata": {
        "colab": {
          "base_uri": "https://localhost:8080/"
        },
        "id": "nawKKi9h2Alj",
        "outputId": "3f221344-78c8-402e-91ab-d49eaa28a3ab"
      },
      "outputs": [
        {
          "output_type": "stream",
          "name": "stderr",
          "text": [
            "[nltk_data] Downloading package stopwords to /root/nltk_data...\n",
            "[nltk_data]   Unzipping corpora/stopwords.zip.\n"
          ]
        }
      ],
      "source": [
        "# Remover stopwords do texto\n",
        "import nltk\n",
        "nltk.download('stopwords')\n",
        "stopwords_portugues = set(nltk.corpus.stopwords.words('portuguese'))\n",
        "stopwords_portugues.update([\"produto\", \"marca\", \"comprei\", \"cerveja\", \"comprar\", \"Amazon\"])\n"
      ]
    },
    {
      "cell_type": "code",
      "execution_count": null,
      "metadata": {
        "id": "EF9EjhgM2Aii"
      },
      "outputs": [],
      "source": [
        "from wordcloud import WordCloud\n",
        "import matplotlib.pyplot as plt\n",
        "\n",
        "# Loop através de cada marca única\n",
        "for marca in df_negativas['Marca'].unique():\n",
        "    # Filtrar as avaliações negativas para a marca atual\n",
        "    df_negativa_marca = df_negativas[df_negativas['Marca'] == marca]\n",
        "\n",
        "    # Unir todos os textos das avaliações negativas dessa marca em uma única string\n",
        "    texto_negativo_marca = \" \".join(df_negativa_marca['review'].astype(str))\n",
        "\n",
        "    # Limpar o texto removendo stopwords\n",
        "    texto_limpo_marca = \" \".join([word for word in texto_negativo_marca.split() if word.lower() not in stopwords_portugues])\n",
        "\n",
        "    # Gerar a nuvem de palavras para a marca\n",
        "    wordcloud = WordCloud(width=800, height=400, background_color='white', stopwords=stopwords_portugues).generate(texto_limpo_marca)\n",
        "\n",
        "    # Mostrar a nuvem de palavras\n",
        "    plt.figure(figsize=(10, 5))\n",
        "    plt.imshow(wordcloud, interpolation='bilinear')\n",
        "    plt.axis('off')\n",
        "    plt.title(f'Principais Queixas em Avaliações Negativas - {marca}')\n",
        "    plt.show()\n"
      ]
    },
    {
      "cell_type": "code",
      "execution_count": null,
      "metadata": {
        "id": "1boaiVqW2Afl"
      },
      "outputs": [],
      "source": [
        "from wordcloud import WordCloud\n",
        "import matplotlib.pyplot as plt\n",
        "from collections import Counter\n",
        "import string\n",
        "import nltk\n",
        "from nltk.corpus import stopwords\n",
        "\n",
        "# Se ainda não tiver baixado as stopwords\n",
        "nltk.download('stopwords')\n",
        "\n",
        "# Filtrar avaliações negativas\n",
        "df_negativas = df[df['Sentimento'] == 'Negativo']\n",
        "\n",
        "# Preprocessamento do texto\n",
        "stop_words = set(stopwords.words('portuguese'))\n",
        "stop_words.update([\"produto\", \"marca\", \"comprei\", \"cerveja\", \"comprar\", \"Amazon\"])\n",
        "def preprocess_text(text):\n",
        "    text = text.lower()  # Converte para minúsculas\n",
        "    text = text.translate(str.maketrans('', '', string.punctuation))  # Remove pontuação\n",
        "    words = text.split()  # Divide em palavras\n",
        "    words = [word for word in words if word not in stop_words]  # Remove stopwords\n",
        "    return ' '.join(words)\n",
        "\n",
        "df_negativas['review_clean'] = df_negativas['review'].apply(preprocess_text)\n",
        "\n",
        "# Gerar nuvens de palavras para cada loja e marca\n",
        "lojas = df_negativas['loja'].unique()\n",
        "\n",
        "for loja in lojas:\n",
        "    df_loja = df_negativas[df_negativas['loja'] == loja]\n",
        "    marcas = df_loja['Marca'].unique()\n",
        "\n",
        "    for marca in marcas:\n",
        "        df_marca = df_loja[df_loja['Marca'] == marca]\n",
        "        texto = ' '.join(df_marca['review_clean'])\n",
        "\n",
        "        # Gera a nuvem de palavras\n",
        "        wordcloud = WordCloud(width=800, height=400, background_color='white').generate(texto)\n",
        "\n",
        "        # Mostrar a nuvem de palavras\n",
        "        plt.figure(figsize=(10, 5))\n",
        "        plt.imshow(wordcloud, interpolation='bilinear')\n",
        "        plt.title(f'Nuvem de Palavras - Loja: {loja} - Marca: {marca}')\n",
        "        plt.axis('off')\n",
        "        plt.show()\n"
      ]
    },
    {
      "cell_type": "markdown",
      "metadata": {
        "id": "d9CIWIch0cBL"
      },
      "source": [
        "Avaliações Positivas: Destaque produtos e marcas que têm uma alta proporção de avaliações positivas. Isso pode ser usado para reforçar a comunicação de marketing e campanhas publicitárias."
      ]
    },
    {
      "cell_type": "code",
      "execution_count": null,
      "metadata": {
        "id": "SovphNJa2BOc"
      },
      "outputs": [],
      "source": [
        "# Filtrar as avaliações positivas\n",
        "df_positivas = df[df['Sentimento'] == 'Positivo']"
      ]
    },
    {
      "cell_type": "code",
      "execution_count": null,
      "metadata": {
        "colab": {
          "base_uri": "https://localhost:8080/"
        },
        "id": "EbQ83OCq2BIj",
        "outputId": "32b22ee9-ab2e-4766-96ec-2c2e885702ac"
      },
      "outputs": [
        {
          "output_type": "stream",
          "name": "stderr",
          "text": [
            "[nltk_data] Downloading package stopwords to /root/nltk_data...\n",
            "[nltk_data]   Package stopwords is already up-to-date!\n"
          ]
        }
      ],
      "source": [
        "# Remover stopwords do texto\n",
        "import nltk\n",
        "nltk.download('stopwords')\n",
        "stopwords_portugues = set(nltk.corpus.stopwords.words('portuguese'))\n",
        "stopwords_portugues.update([\"produto\", \"marca\", \"comprei\", \"cerveja\", \"comprar\", \"Amazon\"])\n"
      ]
    },
    {
      "cell_type": "code",
      "execution_count": null,
      "metadata": {
        "id": "w77wG5tO2BEz"
      },
      "outputs": [],
      "source": [
        "from wordcloud import WordCloud\n",
        "import matplotlib.pyplot as plt\n",
        "\n",
        "# Loop através de cada marca única\n",
        "for marca in df_positivas['Marca'].unique():\n",
        "    # Filtrar as avaliações positivas para a marca atual\n",
        "    df_positivas_marca = df_positivas[df_positivas['Marca'] == marca]\n",
        "\n",
        "    # Unir todos os textos das avaliações positivas dessa marca em uma única string\n",
        "    texto_positivo_marca = \" \".join(df_positivas_marca['review'].astype(str))\n",
        "\n",
        "    # Limpar o texto removendo stopwords\n",
        "    texto_limpo_marca = \" \".join([word for word in texto_positivo_marca.split() if word.lower() not in stopwords_portugues])\n",
        "\n",
        "    # Gerar a nuvem de palavras para a marca\n",
        "    wordcloud = WordCloud(width=800, height=400, background_color='white', stopwords=stopwords_portugues).generate(texto_limpo_marca)\n",
        "\n",
        "    # Mostrar a nuvem de palavras\n",
        "    plt.figure(figsize=(10, 5))\n",
        "    plt.imshow(wordcloud, interpolation='bilinear')\n",
        "    plt.axis('off')\n",
        "    plt.title(f'Principais Queixas em Avaliações Positivas - {marca}')\n",
        "    plt.show()"
      ]
    },
    {
      "cell_type": "code",
      "source": [
        "import matplotlib.pyplot as plt\n",
        "\n",
        "# Contar o número total de avaliações por marca\n",
        "marcas_com_mais_avaliacoes = df['Marca'].value_counts().head(10)\n",
        "\n",
        "# Filtrar o DataFrame para incluir apenas as 10 marcas com mais avaliações\n",
        "df_top_marcas = df[df['Marca'].isin(marcas_com_mais_avaliacoes.index)]\n",
        "\n",
        "# Filtrar as avaliações positivas entre as 10 marcas\n",
        "df_positivas_top_marcas = df_top_marcas[df_top_marcas['Sentimento'] == 'Positivo']\n",
        "\n",
        "# Calcular a proporção de avaliações positivas para cada uma das 10 marcas\n",
        "proporcao_positivas_top_marcas = df_positivas_top_marcas['Marca'].value_counts() / df_top_marcas['Marca'].value_counts()\n",
        "\n",
        "# Ordenar pela proporção de avaliações positivas (da maior para a menor)\n",
        "proporcao_positivas_top_marcas = proporcao_positivas_top_marcas.sort_values(ascending=False)\n",
        "\n",
        "# Converter a proporção para porcentagem\n",
        "proporcao_positivas_top_marcas_percentual = proporcao_positivas_top_marcas * 100\n",
        "\n",
        "# Gráfico de barras para as 10 marcas com mais avaliações\n",
        "plt.figure(figsize=(12, 7))\n",
        "bars = proporcao_positivas_top_marcas_percentual.plot(kind='bar', color='green')\n",
        "\n",
        "# Adicionar rótulos com os dados presentes no gráfico\n",
        "for bar in bars.patches:\n",
        "    height = bar.get_height()\n",
        "    plt.text(\n",
        "        bar.get_x() + bar.get_width() / 2, height, f'{height:.1f}%',\n",
        "        ha='center', va='bottom'\n",
        "    )\n",
        "\n",
        "plt.title('Proporção de Avaliações Positivas nas 10 Marcas com Mais Avaliações')\n",
        "plt.xlabel('Marca')\n",
        "plt.ylabel('Porcentagem de Avaliações Positivas (%)')\n",
        "plt.xticks(rotation=45)\n",
        "plt.show()\n"
      ],
      "metadata": {
        "id": "5JvxIiiLnAh-"
      },
      "execution_count": null,
      "outputs": []
    },
    {
      "cell_type": "code",
      "source": [
        "import matplotlib.pyplot as plt\n",
        "from matplotlib.ticker import PercentFormatter\n",
        "\n",
        "# Listar as lojas disponíveis\n",
        "lojas = df_top_marcas['loja'].unique()\n",
        "\n",
        "# Iterar sobre cada loja e criar um gráfico para cada uma\n",
        "for loja in lojas:\n",
        "    # Filtrar o DataFrame para a loja atual\n",
        "    df_loja = df_top_marcas[df_top_marcas['loja'] == loja]\n",
        "\n",
        "    # Contar o número total de avaliações por produto na loja\n",
        "    produtos_com_mais_avaliacoes = df_loja['Produto'].value_counts()\n",
        "\n",
        "    # Filtrar o DataFrame para incluir apenas os produtos da loja com mais avaliações\n",
        "    df_top_produtos = df_loja[df_loja['Produto'].isin(produtos_com_mais_avaliacoes.index)]\n",
        "\n",
        "    # Filtrar as avaliações positivas entre os produtos da loja\n",
        "    df_positivas_top_produtos = df_top_produtos[df_top_produtos['Sentimento'] == 'Positivo']\n",
        "\n",
        "    # Calcular a proporção de avaliações positivas para cada produto\n",
        "    proporcao_positivas_top_produtos = df_positivas_top_produtos['Produto'].value_counts() / df_top_produtos['Produto'].value_counts()\n",
        "\n",
        "    # Calcular a média de estrelas para cada produto\n",
        "    media_estrelas_por_produto = df_top_produtos.groupby('Produto')['estrelas'].mean()\n",
        "\n",
        "    # Ordenar pela proporção de avaliações positivas (da maior para a menor)\n",
        "    proporcao_positivas_top_produtos = proporcao_positivas_top_produtos.sort_values(ascending=False)\n",
        "\n",
        "    # Atualizar os rótulos do eixo x com o produto e a média de estrelas em porcentagem\n",
        "    labels = [f'{produto}\\n{media_estrelas_por_produto[produto]:.1f} estrelas' for produto in proporcao_positivas_top_produtos.index]\n",
        "\n",
        "    # Gráfico de barras para os produtos da loja\n",
        "    plt.figure(figsize=(12, 7))\n",
        "    ax = proporcao_positivas_top_produtos.plot(kind='bar', color='orange')\n",
        "    plt.title(f'Proporção de Avaliações Positivas para Produtos na Loja {loja}')\n",
        "    plt.xlabel('Produto')\n",
        "    plt.ylabel('Proporção de Avaliações Positivas')\n",
        "\n",
        "    # Ajustar o eixo y para mostrar porcentagem\n",
        "    ax.yaxis.set_major_formatter(PercentFormatter(xmax=1))\n",
        "\n",
        "    # Adicionar rótulos com os valores nas barras\n",
        "    for p in ax.patches:\n",
        "        ax.annotate(f'{p.get_height() * 100:.1f}%',\n",
        "                    (p.get_x() + p.get_width() / 2., p.get_height()),\n",
        "                    ha='center', va='center',\n",
        "                    xytext=(0, 5),\n",
        "                    textcoords='offset points')\n",
        "\n",
        "    # Atualizar rótulos do eixo x\n",
        "    ax.set_xticklabels(labels, rotation=90, ha='right')\n",
        "\n",
        "    plt.tight_layout()\n",
        "    plt.show()\n"
      ],
      "metadata": {
        "id": "EISXDAcgk6yX"
      },
      "execution_count": null,
      "outputs": []
    },
    {
      "cell_type": "code",
      "source": [
        "import matplotlib.pyplot as plt\n",
        "from matplotlib.ticker import PercentFormatter\n",
        "\n",
        "# Listar as lojas disponíveis\n",
        "lojas = df_top_marcas['loja'].unique()\n",
        "\n",
        "# Iterar sobre cada loja e criar um gráfico para cada uma\n",
        "for loja in lojas:\n",
        "    # Filtrar o DataFrame para a loja atual\n",
        "    df_loja = df_top_marcas[df_top_marcas['loja'] == loja]\n",
        "\n",
        "    # Contar o número total de avaliações por produto na loja\n",
        "    produtos_com_mais_avaliacoes = df_loja['Produto'].value_counts()\n",
        "\n",
        "    # Filtrar o DataFrame para incluir apenas os produtos da loja com mais avaliações\n",
        "    df_top_produtos = df_loja[df_loja['Produto'].isin(produtos_com_mais_avaliacoes.index)]\n",
        "\n",
        "    # Filtrar as avaliações positivas entre os produtos da loja\n",
        "    df_positivas_top_produtos = df_top_produtos[df_top_produtos['Sentimento'] == 'Positivo']\n",
        "\n",
        "    # Calcular a proporção de avaliações positivas para cada produto\n",
        "    proporcao_positivas_top_produtos = df_positivas_top_produtos['Produto'].value_counts() / df_top_produtos['Produto'].value_counts()\n",
        "\n",
        "    # Calcular a média de estrelas para cada produto\n",
        "    media_estrelas_por_produto = df_top_produtos.groupby('Produto')['estrelas'].mean()\n",
        "\n",
        "    # Converter a média de estrelas para porcentagem\n",
        "    porcentagem_estrelas_por_produto = media_estrelas_por_produto / 5 * 100\n",
        "\n",
        "    # Ordenar pela proporção de avaliações positivas (da maior para a menor)\n",
        "    proporcao_positivas_top_produtos = proporcao_positivas_top_produtos.sort_values(ascending=False)\n",
        "\n",
        "    # Atualizar os rótulos do eixo x com o produto e a porcentagem de estrelas\n",
        "    labels = [f'{produto}\\n{porcentagem_estrelas_por_produto[produto]:.1f}% de estrelas' for produto in proporcao_positivas_top_produtos.index]\n",
        "\n",
        "    # Gráfico de barras para os produtos da loja\n",
        "    plt.figure(figsize=(12, 7))\n",
        "    ax = proporcao_positivas_top_produtos.plot(kind='bar', color='orange')\n",
        "    plt.title(f'Proporção de Avaliações Positivas para Produtos na Loja {loja}')\n",
        "    plt.xlabel('Produto')\n",
        "    plt.ylabel('Proporção de Avaliações Positivas')\n",
        "\n",
        "    # Ajustar o eixo y para mostrar porcentagem\n",
        "    ax.yaxis.set_major_formatter(PercentFormatter(xmax=1))\n",
        "\n",
        "    # Adicionar rótulos com os valores nas barras\n",
        "    for p in ax.patches:\n",
        "        ax.annotate(f'{p.get_height() * 100:.1f}%',\n",
        "                    (p.get_x() + p.get_width() / 2., p.get_height()),\n",
        "                    ha='center', va='center',\n",
        "                    xytext=(0, 5),\n",
        "                    textcoords='offset points')\n",
        "\n",
        "    # Atualizar rótulos do eixo x\n",
        "    ax.set_xticklabels(labels, rotation=90, ha='right')\n",
        "\n",
        "    plt.tight_layout()\n",
        "    plt.show()\n"
      ],
      "metadata": {
        "id": "R94k77bOlf3_"
      },
      "execution_count": null,
      "outputs": []
    }
  ],
  "metadata": {
    "colab": {
      "provenance": []
    },
    "kernelspec": {
      "display_name": "Python 3",
      "name": "python3"
    },
    "language_info": {
      "name": "python"
    }
  },
  "nbformat": 4,
  "nbformat_minor": 0
}