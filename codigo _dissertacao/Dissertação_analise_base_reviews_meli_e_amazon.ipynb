{
  "nbformat": 4,
  "nbformat_minor": 0,
  "metadata": {
    "colab": {
      "provenance": []
    },
    "kernelspec": {
      "name": "python3",
      "display_name": "Python 3"
    },
    "language_info": {
      "name": "python"
    }
  },
  "cells": [
    {
      "cell_type": "code",
      "execution_count": null,
      "metadata": {
        "id": "ZDYYqjKLrKJ8"
      },
      "outputs": [],
      "source": [
        "import pandas as pd"
      ]
    },
    {
      "cell_type": "code",
      "source": [
        "import matplotlib.pyplot as plt"
      ],
      "metadata": {
        "id": "hKNCaT2Q2uc2"
      },
      "execution_count": null,
      "outputs": []
    },
    {
      "cell_type": "code",
      "source": [
        "from google.colab import drive\n",
        "drive.mount('/content/drive')"
      ],
      "metadata": {
        "id": "64zabRm6rQ-t"
      },
      "execution_count": null,
      "outputs": []
    },
    {
      "cell_type": "code",
      "source": [
        "df = pd.read_csv('caminho/base.csv')"
      ],
      "metadata": {
        "id": "JLamjbpjrSjg"
      },
      "execution_count": null,
      "outputs": []
    },
    {
      "cell_type": "code",
      "source": [
        "df"
      ],
      "metadata": {
        "id": "Q7Bk4nwerV_m"
      },
      "execution_count": null,
      "outputs": []
    },
    {
      "cell_type": "code",
      "source": [
        "# Verificar o tipo da coluna 'date'\n",
        "print(df['date'].dtype)"
      ],
      "metadata": {
        "id": "_v97afDN2IZ1"
      },
      "execution_count": null,
      "outputs": []
    },
    {
      "cell_type": "code",
      "source": [
        "# Se não estiver no formato datetime, converta-a\n",
        "df['date'] = pd.to_datetime(df['date'])"
      ],
      "metadata": {
        "id": "3K1-ynfG2JIu"
      },
      "execution_count": null,
      "outputs": []
    },
    {
      "cell_type": "code",
      "source": [
        "# Substituir os valores na coluna gptpt\n",
        "df['gptpt'] = df['gptpt'].replace({-1: 'Negativo', 0: 'Neutro', 1: 'Positivo'})"
      ],
      "metadata": {
        "id": "r7t4ylLc4FRA"
      },
      "execution_count": null,
      "outputs": []
    },
    {
      "cell_type": "code",
      "source": [
        "df['Marca'] = df['Marca'].str.upper()"
      ],
      "metadata": {
        "id": "UmaGHzqzxaFV"
      },
      "execution_count": null,
      "outputs": []
    },
    {
      "cell_type": "code",
      "source": [
        "df['Produto'] = df['Produto'].str.upper()"
      ],
      "metadata": {
        "id": "gLIz-il_yz0u"
      },
      "execution_count": null,
      "outputs": []
    },
    {
      "cell_type": "code",
      "source": [
        "print(df.Marca.value_counts())"
      ],
      "metadata": {
        "id": "9sJfyxJWCGHO"
      },
      "execution_count": null,
      "outputs": []
    },
    {
      "cell_type": "code",
      "source": [
        "df.rename(columns={'gptpt': 'Sentimento'}, inplace=True)"
      ],
      "metadata": {
        "id": "5YsEUUfGHvQ0"
      },
      "execution_count": null,
      "outputs": []
    },
    {
      "cell_type": "markdown",
      "source": [
        "Gráficos de Polaridade: Crie gráficos de barras ou gráficos de pizza para mostrar a distribuição de sentimentos (positivo, neutro, negativo) por marca e por produto."
      ],
      "metadata": {
        "id": "SZBilq530cRi"
      }
    },
    {
      "cell_type": "code",
      "source": [
        "# Agrupar por Marca e gptpt (polaridade)\n",
        "sentimento_marca = df.groupby(['Marca', 'Sentimento']).size().unstack().fillna(0)\n",
        "\n",
        "# Ajustar o tamanho do gráfico\n",
        "plt.figure(figsize=(12, 8))  # Aumentar o tamanho do gráfico\n",
        "sentimento_marca.plot(kind='bar', stacked=True, figsize=(12, 8))\n",
        "plt.title('Distribuição de Sentimentos por Marca')\n",
        "plt.xlabel('Marca')\n",
        "plt.ylabel('Quantidade')\n",
        "plt.xticks(rotation=45, ha='right')  # Rotacionar os nomes para facilitar a leitura\n",
        "plt.show()\n",
        "\n",
        "# Criar gráfico de pizza para cada Marca\n",
        "for marca in sentimento_marca.index:\n",
        "    sentimento_marca.loc[marca].plot(kind='pie', autopct='%1.1f%%', startangle=90)\n",
        "    plt.title(f'Distribuição de Sentimentos - {marca}')\n",
        "    plt.ylabel('')  # Remover label desnecessária\n",
        "    plt.show()\n"
      ],
      "metadata": {
        "id": "wJERgZ891-2N"
      },
      "execution_count": null,
      "outputs": []
    },
    {
      "cell_type": "code",
      "source": [
        "# Agrupar por Produto e gptpt (polaridade)\n",
        "sentimento_produto = df.groupby(['Produto', 'Sentimento']).size().unstack().fillna(0)\n",
        "\n",
        "# Criar gráfico de barras\n",
        "plt.figure(figsize=(12, 8))  # Aumentar o tamanho do gráfico\n",
        "sentimento_produto.plot(kind='bar', stacked=True, figsize=(12, 8))\n",
        "plt.title('Distribuição de Sentimentos por Produto')\n",
        "plt.xlabel('Produto')\n",
        "plt.ylabel('Quantidade')\n",
        "plt.xticks(rotation=45, ha='right')  # Rotacionar os nomes para facilitar a leitura\n",
        "plt.show()\n",
        "\n",
        "# Criar gráfico de pizza para cada Produto\n",
        "for produto in sentimento_produto.index:\n",
        "    sentimento_produto.loc[produto].plot(kind='pie', autopct='%1.1f%%', startangle=90)\n",
        "    plt.title(f'Distribuição de Sentimentos - {produto}')\n",
        "    plt.ylabel('')  # Remover label desnecessária\n",
        "    plt.show()\n"
      ],
      "metadata": {
        "id": "ljh9NcnA1-xk"
      },
      "execution_count": null,
      "outputs": []
    },
    {
      "cell_type": "markdown",
      "source": [
        "Tendências de Sentimentos: Mostre a evolução dos sentimentos ao longo do tempo para cada marca. Use gráficos de linha para destacar períodos com aumento de sentimentos negativos ou positivos."
      ],
      "metadata": {
        "id": "t2D7-EI10cPC"
      }
    },
    {
      "cell_type": "code",
      "source": [
        "# Agrupar por Marca, data e sentimento\n",
        "sentimento_tempo = df.groupby([df['date'].dt.to_period('M'), 'Marca', 'Sentimento']).size().unstack().fillna(0)\n",
        "\n",
        "# Criar gráfico de linha para cada Marca\n",
        "for marca in df['Marca'].unique():\n",
        "    sentimento_tempo_marca = sentimento_tempo.xs(marca, level='Marca')\n",
        "\n",
        "    # Plotar gráfico de linha\n",
        "    ax = sentimento_tempo_marca.plot(kind='line', figsize=(12, 8), marker='o')\n",
        "    plt.title(f'Evolução dos Sentimentos ao Longo do Tempo - {marca}')\n",
        "    plt.xlabel('Tempo')\n",
        "    plt.ylabel('Quantidade')\n",
        "    plt.xticks(rotation=45)\n",
        "    plt.grid(True)\n",
        "\n",
        "    # Adicionar rótulos nos pontos do gráfico\n",
        "    for i in range(len(sentimento_tempo_marca)):\n",
        "        for sentimento in sentimento_tempo_marca.columns:\n",
        "            y = sentimento_tempo_marca.iloc[i][sentimento]\n",
        "            if y > 0:  # Exibir apenas para pontos com valores positivos\n",
        "                ax.text(sentimento_tempo_marca.index[i], y, f'{int(y)}', ha='center', va='bottom')\n",
        "\n",
        "    # Garantir que os valores do eixo Y sejam inteiros\n",
        "    ax.yaxis.get_major_locator().set_params(integer=True)\n",
        "\n",
        "    plt.show()"
      ],
      "metadata": {
        "id": "kXF4Zb4e1_g7"
      },
      "execution_count": null,
      "outputs": []
    },
    {
      "cell_type": "markdown",
      "source": [
        "Gráficos Temporais: Crie gráficos que mostrem o número de avaliações por mês ou trimestre. Isso pode ajudar a identificar picos de avaliações, que podem estar associados a campanhas de marketing ou lançamentos de produtos.\n",
        "\n",
        "Correlacionar com Campanhas: Se possível, correlacione esses picos com campanhas de marketing ou eventos sazonais."
      ],
      "metadata": {
        "id": "zjyo5x9l0cMa"
      }
    },
    {
      "cell_type": "code",
      "source": [
        "# Agrupar por marca e trimestre\n",
        "avaliacoes_por_trimestre_marca = df.groupby([df['date'].dt.to_period('Q'), 'Marca']).size().unstack().fillna(0)\n",
        "\n",
        "# Criar gráfico de linha para cada marca mostrando avaliações por trimestre\n",
        "for marca in avaliacoes_por_trimestre_marca.columns:\n",
        "    plt.figure(figsize=(12, 8))\n",
        "    ax = avaliacoes_por_trimestre_marca[marca].plot(kind='line', marker='o')\n",
        "    plt.title(f'Número de Avaliações por Trimestre - {marca}')\n",
        "    plt.xlabel('Trimestre')\n",
        "    plt.ylabel('Número de Avaliações')\n",
        "    plt.xticks(rotation=45)\n",
        "    plt.grid(True)\n",
        "\n",
        "    # Adicionar rótulos nos pontos do gráfico\n",
        "    for i in range(len(avaliacoes_por_trimestre_marca)):\n",
        "        y = avaliacoes_por_trimestre_marca[marca].iloc[i]\n",
        "        if y > 0:  # Exibir apenas para pontos com valores positivos\n",
        "            ax.text(avaliacoes_por_trimestre_marca.index[i], y, f'{int(y)}', ha='center', va='bottom')\n",
        "\n",
        "    # Garantir que os valores do eixo Y sejam inteiros\n",
        "    ax.yaxis.get_major_locator().set_params(integer=True)\n",
        "\n",
        "    plt.show()"
      ],
      "metadata": {
        "id": "1DcCtt-l2AJj"
      },
      "execution_count": null,
      "outputs": []
    },
    {
      "cell_type": "markdown",
      "source": [
        "Análise de Sentimentos Negativos: Faça uma análise mais profunda das avaliações negativas para identificar problemas comuns mencionados pelos clientes. Use nuvens de palavras para visualizar as principais queixas.\n",
        "\n",
        "Oportunidades de Melhoria: Baseado nas avaliações negativas e neutras, sugira melhorias para produtos específicos."
      ],
      "metadata": {
        "id": "_9l9I5cB0cJk"
      }
    },
    {
      "cell_type": "code",
      "source": [
        "# Filtrar as avaliações negativas\n",
        "df_negativas = df[df['Sentimento'] == 'Negativo']\n"
      ],
      "metadata": {
        "id": "zEk-tCnj2Aqu"
      },
      "execution_count": null,
      "outputs": []
    },
    {
      "cell_type": "code",
      "source": [
        "# Remover stopwords do texto\n",
        "import nltk\n",
        "nltk.download('stopwords')\n",
        "stopwords_portugues = set(nltk.corpus.stopwords.words('portuguese'))\n",
        "stopwords_portugues.update([\"produto\", \"marca\", \"comprei\", \"cerveja\", \"comprar\", \"Amazon\"])\n"
      ],
      "metadata": {
        "id": "nawKKi9h2Alj"
      },
      "execution_count": null,
      "outputs": []
    },
    {
      "cell_type": "code",
      "source": [
        "from wordcloud import WordCloud\n",
        "import matplotlib.pyplot as plt\n",
        "\n",
        "# Loop através de cada marca única\n",
        "for marca in df_negativas['Marca'].unique():\n",
        "    # Filtrar as avaliações negativas para a marca atual\n",
        "    df_negativa_marca = df_negativas[df_negativas['Marca'] == marca]\n",
        "\n",
        "    # Unir todos os textos das avaliações negativas dessa marca em uma única string\n",
        "    texto_negativo_marca = \" \".join(df_negativa_marca['review'].astype(str))\n",
        "\n",
        "    # Limpar o texto removendo stopwords\n",
        "    texto_limpo_marca = \" \".join([word for word in texto_negativo_marca.split() if word.lower() not in stopwords_portugues])\n",
        "\n",
        "    # Gerar a nuvem de palavras para a marca\n",
        "    wordcloud = WordCloud(width=800, height=400, background_color='white', stopwords=stopwords_portugues).generate(texto_limpo_marca)\n",
        "\n",
        "    # Mostrar a nuvem de palavras\n",
        "    plt.figure(figsize=(10, 5))\n",
        "    plt.imshow(wordcloud, interpolation='bilinear')\n",
        "    plt.axis('off')\n",
        "    plt.title(f'Principais Queixas em Avaliações Negativas - {marca}')\n",
        "    plt.show()\n"
      ],
      "metadata": {
        "id": "EF9EjhgM2Aii"
      },
      "execution_count": null,
      "outputs": []
    },
    {
      "cell_type": "code",
      "source": [
        "from wordcloud import WordCloud\n",
        "import matplotlib.pyplot as plt\n",
        "from collections import Counter\n",
        "import string\n",
        "import nltk\n",
        "from nltk.corpus import stopwords\n",
        "\n",
        "# Se ainda não tiver baixado as stopwords\n",
        "nltk.download('stopwords')\n",
        "\n",
        "# Filtrar avaliações negativas\n",
        "df_negativas = df[df['Sentimento'] == 'Negativo']\n",
        "\n",
        "# Preprocessamento do texto\n",
        "stop_words = set(stopwords.words('portuguese'))\n",
        "stop_words.update([\"produto\", \"marca\", \"comprei\", \"cerveja\", \"comprar\", \"Amazon\"])\n",
        "def preprocess_text(text):\n",
        "    text = text.lower()  # Converte para minúsculas\n",
        "    text = text.translate(str.maketrans('', '', string.punctuation))  # Remove pontuação\n",
        "    words = text.split()  # Divide em palavras\n",
        "    words = [word for word in words if word not in stop_words]  # Remove stopwords\n",
        "    return ' '.join(words)\n",
        "\n",
        "df_negativas['review_clean'] = df_negativas['review'].apply(preprocess_text)\n",
        "\n",
        "# Gerar nuvens de palavras para cada loja e marca\n",
        "lojas = df_negativas['loja'].unique()\n",
        "\n",
        "for loja in lojas:\n",
        "    df_loja = df_negativas[df_negativas['loja'] == loja]\n",
        "    marcas = df_loja['Marca'].unique()\n",
        "\n",
        "    for marca in marcas:\n",
        "        df_marca = df_loja[df_loja['Marca'] == marca]\n",
        "        texto = ' '.join(df_marca['review_clean'])\n",
        "\n",
        "        # Gera a nuvem de palavras\n",
        "        wordcloud = WordCloud(width=800, height=400, background_color='white').generate(texto)\n",
        "\n",
        "        # Mostrar a nuvem de palavras\n",
        "        plt.figure(figsize=(10, 5))\n",
        "        plt.imshow(wordcloud, interpolation='bilinear')\n",
        "        plt.title(f'Nuvem de Palavras - Loja: {loja} - Marca: {marca}')\n",
        "        plt.axis('off')\n",
        "        plt.show()\n"
      ],
      "metadata": {
        "id": "1boaiVqW2Afl"
      },
      "execution_count": null,
      "outputs": []
    },
    {
      "cell_type": "markdown",
      "source": [
        "Avaliações Positivas: Destaque produtos e marcas que têm uma alta proporção de avaliações positivas. Isso pode ser usado para reforçar a comunicação de marketing e campanhas publicitárias."
      ],
      "metadata": {
        "id": "d9CIWIch0cBL"
      }
    },
    {
      "cell_type": "code",
      "source": [
        "# Filtrar as avaliações positivas\n",
        "df_positivas = df[df['Sentimento'] == 'Positivo']"
      ],
      "metadata": {
        "id": "SovphNJa2BOc"
      },
      "execution_count": null,
      "outputs": []
    },
    {
      "cell_type": "code",
      "source": [
        "# Remover stopwords do texto\n",
        "import nltk\n",
        "nltk.download('stopwords')\n",
        "stopwords_portugues = set(nltk.corpus.stopwords.words('portuguese'))\n",
        "stopwords_portugues.update([\"produto\", \"marca\", \"comprei\", \"cerveja\", \"comprar\", \"Amazon\"])\n"
      ],
      "metadata": {
        "id": "EbQ83OCq2BIj"
      },
      "execution_count": null,
      "outputs": []
    },
    {
      "cell_type": "code",
      "source": [
        "from wordcloud import WordCloud\n",
        "import matplotlib.pyplot as plt\n",
        "\n",
        "# Loop através de cada marca única\n",
        "for marca in df_positivas['Marca'].unique():\n",
        "    # Filtrar as avaliações positivas para a marca atual\n",
        "    df_positivas_marca = df_positivas[df_positivas['Marca'] == marca]\n",
        "\n",
        "    # Unir todos os textos das avaliações positivas dessa marca em uma única string\n",
        "    texto_positivo_marca = \" \".join(df_positivas_marca['review'].astype(str))\n",
        "\n",
        "    # Limpar o texto removendo stopwords\n",
        "    texto_limpo_marca = \" \".join([word for word in texto_positivo_marca.split() if word.lower() not in stopwords_portugues])\n",
        "\n",
        "    # Gerar a nuvem de palavras para a marca\n",
        "    wordcloud = WordCloud(width=800, height=400, background_color='white', stopwords=stopwords_portugues).generate(texto_limpo_marca)\n",
        "\n",
        "    # Mostrar a nuvem de palavras\n",
        "    plt.figure(figsize=(10, 5))\n",
        "    plt.imshow(wordcloud, interpolation='bilinear')\n",
        "    plt.axis('off')\n",
        "    plt.title(f'Principais Queixas em Avaliações Positivas - {marca}')\n",
        "    plt.show()"
      ],
      "metadata": {
        "id": "w77wG5tO2BEz"
      },
      "execution_count": null,
      "outputs": []
    },
    {
      "cell_type": "code",
      "source": [
        "# Contar o número total de avaliações por marca\n",
        "marcas_com_mais_avaliacoes = df['Marca'].value_counts().head(10)\n"
      ],
      "metadata": {
        "id": "g_41VVKJ2BBz"
      },
      "execution_count": null,
      "outputs": []
    },
    {
      "cell_type": "code",
      "source": [
        "# Filtrar o DataFrame para incluir apenas as 15 marcas com mais avaliações\n",
        "df_top_marcas = df[df['Marca'].isin(marcas_com_mais_avaliacoes.index)]"
      ],
      "metadata": {
        "id": "eDzybDkq2A_F"
      },
      "execution_count": null,
      "outputs": []
    },
    {
      "cell_type": "code",
      "source": [
        "# Filtrar as avaliações positivas entre as 15 marcas\n",
        "df_positivas_top_marcas = df_top_marcas[df_top_marcas['Sentimento'] == 'Positivo']\n",
        "\n",
        "# Calcular a proporção de avaliações positivas para cada uma das 15 marcas\n",
        "proporcao_positivas_top_marcas = df_positivas_top_marcas['Marca'].value_counts() / df_top_marcas['Marca'].value_counts()\n",
        "\n",
        "# Ordenar pela proporção de avaliações positivas (da maior para a menor)\n",
        "proporcao_positivas_top_marcas = proporcao_positivas_top_marcas.sort_values(ascending=False)"
      ],
      "metadata": {
        "id": "c8p3OSMmFC2h"
      },
      "execution_count": null,
      "outputs": []
    },
    {
      "cell_type": "code",
      "source": [
        "# Gráfico de barras para as 15 marcas com mais avaliações\n",
        "plt.figure(figsize=(12, 7))\n",
        "proporcao_positivas_top_marcas.plot(kind='bar', color='green')\n",
        "plt.title('Proporção de Avaliações Positivas nas 10 Marcas com Mais Avaliações')\n",
        "plt.xlabel('Marca')\n",
        "plt.ylabel('Proporção de Avaliações Positivas')\n",
        "plt.xticks(rotation=45)\n",
        "plt.show()\n"
      ],
      "metadata": {
        "id": "WXcSTQLFFGWc"
      },
      "execution_count": null,
      "outputs": []
    }
  ]
}