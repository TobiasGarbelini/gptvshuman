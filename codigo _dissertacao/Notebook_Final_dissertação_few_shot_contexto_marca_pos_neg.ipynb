{
  "nbformat": 4,
  "nbformat_minor": 0,
  "metadata": {
    "colab": {
      "provenance": []
    },
    "kernelspec": {
      "name": "python3",
      "display_name": "Python 3"
    },
    "language_info": {
      "name": "python"
    }
  },
  "cells": [
    {
      "cell_type": "code",
      "source": [
        "import pandas as pd"
      ],
      "metadata": {
        "id": "NVcl9F3PbveD"
      },
      "execution_count": null,
      "outputs": []
    },
    {
      "cell_type": "code",
      "source": [
        "import json"
      ],
      "metadata": {
        "id": "JPXHEfM4PoJn"
      },
      "execution_count": null,
      "outputs": []
    },
    {
      "cell_type": "code",
      "source": [
        "import ast"
      ],
      "metadata": {
        "id": "UlJ5Ywh9HvXO"
      },
      "execution_count": null,
      "outputs": []
    },
    {
      "cell_type": "code",
      "source": [
        "import re  # Importando a biblioteca de expressões regulares"
      ],
      "metadata": {
        "id": "xev80lLQHvOY"
      },
      "execution_count": null,
      "outputs": []
    },
    {
      "cell_type": "code",
      "execution_count": null,
      "metadata": {
        "id": "doZcxlIAbl6h"
      },
      "outputs": [],
      "source": [
        "!pip install openai==0.28"
      ]
    },
    {
      "cell_type": "code",
      "source": [
        "import openai"
      ],
      "metadata": {
        "id": "Rk5UWxfAbsAp"
      },
      "execution_count": null,
      "outputs": []
    },
    {
      "cell_type": "code",
      "source": [
        "openai.api_key = \"Chave de acesso\""
      ],
      "metadata": {
        "id": "4M-ojuDobtzx"
      },
      "execution_count": null,
      "outputs": []
    },
    {
      "cell_type": "code",
      "source": [
        "from google.colab import drive\n",
        "drive.mount('/content/drive')"
      ],
      "metadata": {
        "id": "kSIfgCUXbxFX"
      },
      "execution_count": null,
      "outputs": []
    },
    {
      "cell_type": "code",
      "source": [
        "df = pd.read_csv('caminho/base.csv')"
      ],
      "metadata": {
        "id": "CIfA2DyhrnJx"
      },
      "execution_count": null,
      "outputs": []
    },
    {
      "cell_type": "code",
      "source": [
        "df"
      ],
      "metadata": {
        "id": "c468MHgYHyFR"
      },
      "execution_count": null,
      "outputs": []
    },
    {
      "cell_type": "code",
      "source": [
        "df['date'] = pd.to_datetime(df['date'], errors='coerce')"
      ],
      "metadata": {
        "id": "gUVuy178IBvt"
      },
      "execution_count": null,
      "outputs": []
    },
    {
      "cell_type": "code",
      "source": [
        "df_filtrado = df[df['date'].dt.year >= 2021]"
      ],
      "metadata": {
        "id": "8rEs7HsHIJ_F"
      },
      "execution_count": null,
      "outputs": []
    },
    {
      "cell_type": "code",
      "source": [
        "df = df_filtrado"
      ],
      "metadata": {
        "id": "VGZTJuRuIPj2"
      },
      "execution_count": null,
      "outputs": []
    },
    {
      "cell_type": "code",
      "source": [
        "df"
      ],
      "metadata": {
        "id": "Pa3gfanBIVS_"
      },
      "execution_count": null,
      "outputs": []
    },
    {
      "cell_type": "code",
      "source": [
        "df['gptpt'] = ''"
      ],
      "metadata": {
        "id": "bB4m3B4HIF_v"
      },
      "execution_count": null,
      "outputs": []
    },
    {
      "cell_type": "code",
      "source": [
        "df"
      ],
      "metadata": {
        "id": "5hJh6Kkdy8gP"
      },
      "execution_count": null,
      "outputs": []
    },
    {
      "cell_type": "code",
      "source": [
        "df['descricaoGptpt'] = ''"
      ],
      "metadata": {
        "id": "1UHM-vuLIGht"
      },
      "execution_count": null,
      "outputs": []
    },
    {
      "cell_type": "code",
      "source": [
        "df"
      ],
      "metadata": {
        "id": "hcWUxWbTy-2i"
      },
      "execution_count": null,
      "outputs": []
    },
    {
      "cell_type": "code",
      "source": [
        "df['erro'] = ''"
      ],
      "metadata": {
        "id": "HjF2tNA6Ukys"
      },
      "execution_count": null,
      "outputs": []
    },
    {
      "cell_type": "code",
      "source": [
        "df"
      ],
      "metadata": {
        "id": "y0o_LvcFADvL"
      },
      "execution_count": null,
      "outputs": []
    },
    {
      "cell_type": "code",
      "source": [
        "def get_completion(prompt, model):\n",
        "  try:\n",
        "    # formatar o prompt como uma mensagem de usuário para a API de chat\n",
        "    messages = [{\"role\": \"user\", \"content\": prompt}]\n",
        "\n",
        "    # chamar a API de chat com o modelo especificado, as mensagens e a temperatura\n",
        "    response = openai.ChatCompletion.create(\n",
        "        model=model,\n",
        "        messages=messages,\n",
        "        temperature=0\n",
        "    )\n",
        "    # retornar o conteúdo da resposta\n",
        "    return response.choices[0].message[\"content\"]\n",
        "  except Exception as e:\n",
        "        return \"erro\""
      ],
      "metadata": {
        "id": "MjWdMzBVRXuc"
      },
      "execution_count": null,
      "outputs": []
    },
    {
      "cell_type": "markdown",
      "source": [
        "# **PROMPT completo**\n",
        "Você é um profissional de marketing da empresa '\" + empresa + \"'. Classifique a avaliação do produto '\"+ produto +\"' como 'positiva', 'negativa' ou 'neutra'. A avaliação pode conter sarcasmo, ironia ou polarity shift. A avaliação deve ser analisada do ponto de vista do produto '\" + produto + \"'. Por fim, explique como você chegou a essas conclusões. Retorne todas essas informações no formato de um objeto JSON:\n",
        "{\n",
        "  \"classe\": \"classe\",\n",
        "  \"explicacao_modelo\": \"string\"\n",
        "}\n",
        "\n",
        "Exemplos:\n",
        "\n",
        "Exemplo 1:\n",
        "\n",
        "Você é um profissional de marketing da empresa 'spaten'. Classifique a avaliação do produto 'cerveja spaten' como 'positiva', 'negativa' ou 'neutra'. A avaliação pode conter sarcasmo, ironia ou polarity shift. A avaliação deve ser analisada do ponto de vista do produto 'cerveja spaten'. Por fim, explique como você chegou a essas conclusões. Retorne todas essas informações no formato de um objeto JSON: { 'classe': 'classe', 'explicacao_modelo': 'string'}\n",
        "\n",
        "avaliação: 'A cerveja spaten é boa, mas ela deixa um gosto muito amargo no final, isso é horrivel' JSON esperado: { \"classe\": \"negativa\", \"explicacao_modelo\": \"Embora a avaliação comece de forma positiva, a menção ao gosto amargo no final e a expressão horrível indicam uma experiência negativa. Isso caracteriza uma mudança de polaridade (polarity shift).\" }\n",
        "\n",
        "Exemplo 2:\n",
        "\n",
        "Você é um profissional de marketing da empresa 'Skol'. Classifique a avaliação do produto 'cerveja skol' como 'positiva', 'negativa' ou 'neutra'. A avaliação pode conter sarcasmo, ironia ou polarity shift. A avaliação deve ser analisada do ponto de vista do produto 'cerveja skol'. Por fim, explique como você chegou a essas conclusões. Retorne todas essas informações no formato de um objeto JSON: { 'classe': 'classe', 'explicacao_modelo': 'string'}\n",
        "\n",
        "avaliação: 'A Skol está fazendo cervejas muito ruins.' JSON esperado: { \"classe\": \"negativa\", \"explicacao_modelo\": \"A avaliação é claramente negativa, pois afirma que a Skol está produzindo cervejas ruins.\" }\n",
        "\n",
        "Exemplo 3:\n",
        "\n",
        "Você é um profissional de marketing da empresa 'Itaipava'. Classifique a avaliação do produto 'cerveja itaipava' como 'positiva', 'negativa' ou 'neutra'. A avaliação pode conter sarcasmo, ironia ou polarity shift. A avaliação deve ser analisada do ponto de vista do produto 'cerveja itaipava'. Por fim, explique como você chegou a essas conclusões. Retorne todas essas informações no formato de um objeto JSON: { 'classe': 'classe', 'explicacao_modelo': 'string'}\n",
        "\n",
        "avaliação: 'Graças a ótima cerveja da Itaipava, estou com dor de barriga.' JSON esperado: { \"classe\": \"negativa\", \"explicacao_modelo\": \"A expressão ótima cerveja é usada de forma irônica, pois o resultado foi uma dor de barriga, o que indica uma experiência negativa.\" }\n",
        "\n",
        "Exemplo 4: Você é um profissional de marketing da empresa 'Brahma'. Classifique a avaliação do produto 'brahma duplo malte' como 'positiva', 'negativa' ou 'neutra'. A avaliação pode conter sarcasmo, ironia ou polarity shift. A avaliação deve ser analisada do ponto de vista do produto 'brahma duplo malte'. Por fim, explique como você chegou a essas conclusões. Retorne todas essas informações no formato de um objeto JSON: { 'classe': 'classe', 'explicacao_modelo': 'string'}\n",
        "avaliação: 'Essa cerveja da Brahma é muito boa' JSON esperado: { \"classe\": \"positiva\", \"explicacao_modelo\": \"A avaliação expressa uma opinião positiva clara ao afirmar que a cerveja é muito boa.\" }\n",
        "\n",
        "Exemplo 5: Você é um profissional de marketing da empresa 'Heineken'. Classifique a avaliação do produto 'cerveja Heineken' como 'positiva', 'negativa' ou 'neutra'. A avaliação pode conter sarcasmo, ironia ou polarity shift. A avaliação deve ser analisada do ponto de vista do produto 'cerveja Heineken'. Por fim, explique como você chegou a essas conclusões. Retorne todas essas informações no formato de um objeto JSON: { 'classe': 'classe', 'explicacao_modelo': 'string'}\n",
        "avaliação: 'Estou tomando uma Skol, mas sonhando com uma Heineken' JSON esperado: { \"classe\": \"positiva\", \"explicacao_modelo\": \"A avaliação sugere que a Heineken é preferida em relação à Skol, o que é positivo para a Heineken.\" }\n",
        "\n",
        "Exemplo 6: Você é um profissional de marketing da empresa 'Heineken'. Classifique a avaliação do produto 'cerveja Heineken' como 'positiva', 'negativa' ou 'neutra'. A avaliação pode conter sarcasmo, ironia ou polarity shift. A avaliação deve ser analisada do ponto de vista do produto ' cervejaHeineken'. Por fim, explique como você chegou a essas conclusões. Retorne todas essas informações no formato de um objeto JSON: { 'classe': 'classe', 'explicacao_modelo': 'string'}\n",
        "avaliação: 'a Heineken foi entregue' JSON esperado: { \"classe\": \"neutra\", \"explicacao_modelo\": \"A avaliação apenas relata a entrega do produto, sem expressar nenhuma opinião positiva ou negativa.\" }\n",
        "\n",
        "Avaliação a ser classificada:\n",
        "avaliação: '\" + avaliacao + \"\n",
        "JSON esperado:\n",
        "{\n",
        "  \"classe\": \"classe\",\n",
        "  \"explicacao_modelo\": \"string\"\n",
        "}"
      ],
      "metadata": {
        "id": "CCRgpp9rzOpd"
      }
    },
    {
      "cell_type": "code",
      "source": [
        "prompt = \"\"\"\n",
        "Exemplos:\n",
        "\n",
        "Exemplo 1:\n",
        "\n",
        "Você é um profissional de marketing da empresa 'spaten'. Classifique a avaliação do produto 'cerveja spaten' como 'positiva', 'negativa' ou 'neutra'. A avaliação pode conter sarcasmo, ironia ou polarity shift. A avaliação deve ser analisada do ponto de vista do produto 'cerveja spaten'. Por fim, explique como você chegou a essas conclusões. Retorne todas essas informações no formato de um objeto JSON: { 'classe': 'classe', 'explicacao_modelo': 'string'}\n",
        "\n",
        "avaliação: 'A cerveja spaten é boa, mas ela deixa um gosto muito amargo no final, isso é horrivel' JSON esperado: { \"classe\": \"negativa\", \"explicacao_modelo\": \"Embora a avaliação comece de forma positiva, a menção ao gosto amargo no final e a expressão horrível indicam uma experiência negativa. Isso caracteriza uma mudança de polaridade (polarity shift).\" }\n",
        "\n",
        "Exemplo 2:\n",
        "\n",
        "Você é um profissional de marketing da empresa 'Skol'. Classifique a avaliação do produto 'cerveja skol' como 'positiva', 'negativa' ou 'neutra'. A avaliação pode conter sarcasmo, ironia ou polarity shift. A avaliação deve ser analisada do ponto de vista do produto 'cerveja skol'. Por fim, explique como você chegou a essas conclusões. Retorne todas essas informações no formato de um objeto JSON: { 'classe': 'classe', 'explicacao_modelo': 'string'}\n",
        "\n",
        "avaliação: 'A Skol está fazendo cervejas muito ruins.' JSON esperado: { \"classe\": \"negativa\", \"explicacao_modelo\": \"A avaliação é claramente negativa, pois afirma que a Skol está produzindo cervejas ruins.\" }\n",
        "\n",
        "Exemplo 3:\n",
        "\n",
        "Você é um profissional de marketing da empresa 'Itaipava'. Classifique a avaliação do produto 'cerveja itaipava' como 'positiva', 'negativa' ou 'neutra'. A avaliação pode conter sarcasmo, ironia ou polarity shift. A avaliação deve ser analisada do ponto de vista do produto 'cerveja itaipava'. Por fim, explique como você chegou a essas conclusões. Retorne todas essas informações no formato de um objeto JSON: { 'classe': 'classe', 'explicacao_modelo': 'string'}\n",
        "\n",
        "avaliação: 'Graças a ótima cerveja da Itaipava, estou com dor de barriga.' JSON esperado: { \"classe\": \"negativa\", \"explicacao_modelo\": \"A expressão ótima cerveja é usada de forma irônica, pois o resultado foi uma dor de barriga, o que indica uma experiência negativa.\" }\n",
        "\n",
        "Exemplo 4: Você é um profissional de marketing da empresa 'Brahma'. Classifique a avaliação do produto 'brahma duplo malte' como 'positiva', 'negativa' ou 'neutra'. A avaliação pode conter sarcasmo, ironia ou polarity shift. A avaliação deve ser analisada do ponto de vista do produto 'brahma duplo malte'. Por fim, explique como você chegou a essas conclusões. Retorne todas essas informações no formato de um objeto JSON: { 'classe': 'classe', 'explicacao_modelo': 'string'}\n",
        "avaliação: 'Essa cerveja da Brahma é muito boa' JSON esperado: { \"classe\": \"positiva\", \"explicacao_modelo\": \"A avaliação expressa uma opinião positiva clara ao afirmar que a cerveja é muito boa.\" }\n",
        "\n",
        "Exemplo 5: Você é um profissional de marketing da empresa 'Heineken'. Classifique a avaliação do produto 'cerveja Heineken' como 'positiva', 'negativa' ou 'neutra'. A avaliação pode conter sarcasmo, ironia ou polarity shift. A avaliação deve ser analisada do ponto de vista do produto 'cerveja Heineken'. Por fim, explique como você chegou a essas conclusões. Retorne todas essas informações no formato de um objeto JSON: { 'classe': 'classe', 'explicacao_modelo': 'string'}\n",
        "avaliação: 'Estou tomando uma Skol, mas sonhando com uma Heineken' JSON esperado: { \"classe\": \"positiva\", \"explicacao_modelo\": \"A avaliação sugere que a Heineken é preferida em relação à Skol, o que é positivo para a Heineken.\" }\n",
        "\n",
        "Exemplo 6: Você é um profissional de marketing da empresa 'Heineken'. Classifique a avaliação do produto 'cerveja Heineken' como 'positiva', 'negativa' ou 'neutra'. A avaliação pode conter sarcasmo, ironia ou polarity shift. A avaliação deve ser analisada do ponto de vista do produto ' cervejaHeineken'. Por fim, explique como você chegou a essas conclusões. Retorne todas essas informações no formato de um objeto JSON: { 'classe': 'classe', 'explicacao_modelo': 'string'}\n",
        "avaliação: 'a Heineken foi entregue' JSON esperado: { \"classe\": \"neutra\", \"explicacao_modelo\": \"A avaliação apenas relata a entrega do produto, sem expressar nenhuma opinião positiva ou negativa.\" }\n",
        "\"\"\"\n"
      ],
      "metadata": {
        "id": "ViLBXJaTtM2r"
      },
      "execution_count": null,
      "outputs": []
    },
    {
      "cell_type": "code",
      "source": [
        "df"
      ],
      "metadata": {
        "id": "vwPVcKoZIkNv"
      },
      "execution_count": null,
      "outputs": []
    },
    {
      "cell_type": "code",
      "source": [
        "model=\"gpt-3.5-turbo\"\n",
        "\n",
        "for index, row in df.iterrows():\n",
        "  try:\n",
        "        avaliacao = row['review']\n",
        "        produto = row['Produto']\n",
        "        empresa = row['Marca']\n",
        "\n",
        "        inicio_prompt = \"Você é um profissional de marketing da empresa '\" + empresa + \"'. Classifique a avaliação do produto '\"+ produto +\"' como 'positiva', 'negativa' ou 'neutra'. A avaliação pode conter sarcasmo, ironia ou polarity shift. A avaliação deve ser analisada do ponto de vista do produto '\" + produto + \"'. Por fim, explique como você chegou a essas conclusões. Retorne todas essas informações no formato de um objeto JSON:\"\\\n",
        "        \"{\" \\\n",
        "                   \" \\\"\"\"classe\\\"\"\": \\\"\"\"classe\\\"\"\",\" \\\n",
        "                    \" \\\"\"\"explicacao_modelo\\\"\"\": \\\"\"\"string\\\"\"\"\" \\\n",
        "                \"}\"\n",
        "\n",
        "        prompt_final = inicio_prompt + prompt + \" Avaliação a ser classificada: \"\\\n",
        "        \"avaliação: '\" + avaliacao + \"' \"\\\n",
        "                \"JSON esperado:\"\\\n",
        "                \"{\" \\\n",
        "                   \" \\\"\"\"classe\\\"\"\": \\\"\"\"classe\\\"\"\",\" \\\n",
        "                    \" \\\"\"\"explicacao_modelo\\\"\"\": \\\"\"\"string\\\"\"\"\" \\\n",
        "                \"}\"\n",
        "\n",
        "        print(prompt_final)\n",
        "\n",
        "        response = get_completion(prompt_final, model)\n",
        "\n",
        "        print(response)\n",
        "\n",
        "        response_dict = json.loads(response)\n",
        "\n",
        "        # Salve o sentimento na coluna correspondente\n",
        "        df.at[index, 'gptpt'] = response_dict['classe']\n",
        "        df.at[index, 'descricaoGptpt'] = response_dict['explicacao_modelo'].replace(\"'\", \"\")\n",
        "\n",
        "        print(\"----------------------------------------------------------------------------------------------------------------------------------\")\n",
        "  except Exception as e:\n",
        "      df.at[index, 'erro'] = response"
      ],
      "metadata": {
        "id": "dFrdCNzAHj2H"
      },
      "execution_count": null,
      "outputs": []
    },
    {
      "cell_type": "code",
      "source": [
        "df"
      ],
      "metadata": {
        "id": "T8i6URb4x1SK"
      },
      "execution_count": null,
      "outputs": []
    },
    {
      "cell_type": "code",
      "source": [
        "print(df.erro.value_counts())"
      ],
      "metadata": {
        "id": "t0xuu6lax3OS"
      },
      "execution_count": null,
      "outputs": []
    },
    {
      "cell_type": "code",
      "source": [
        "df.to_csv('caminho/base.csv', index=False)"
      ],
      "metadata": {
        "id": "f0WZ5uXJL0JG"
      },
      "execution_count": null,
      "outputs": []
    },
    {
      "cell_type": "code",
      "source": [
        "print(df.gptpt.value_counts())"
      ],
      "metadata": {
        "id": "beVLv1gCjKw3"
      },
      "execution_count": null,
      "outputs": []
    },
    {
      "cell_type": "code",
      "source": [
        "df['gptpt'] = df['gptpt'].replace({'negativa': -1, 'positiva': 1, 'neutra':0})"
      ],
      "metadata": {
        "id": "F24B8J-30DN7"
      },
      "execution_count": null,
      "outputs": []
    },
    {
      "cell_type": "code",
      "source": [
        "print(df.gptpt.value_counts())"
      ],
      "metadata": {
        "id": "nDhr84GK0YhL"
      },
      "execution_count": null,
      "outputs": []
    },
    {
      "cell_type": "code",
      "source": [
        "df"
      ],
      "metadata": {
        "id": "ouRPmVIb0Wv8"
      },
      "execution_count": null,
      "outputs": []
    }
  ]
}