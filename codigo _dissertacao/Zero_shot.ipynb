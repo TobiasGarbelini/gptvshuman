{
  "nbformat": 4,
  "nbformat_minor": 0,
  "metadata": {
    "colab": {
      "provenance": []
    },
    "kernelspec": {
      "name": "python3",
      "display_name": "Python 3"
    },
    "language_info": {
      "name": "python"
    }
  },
  "cells": [
    {
      "cell_type": "code",
      "source": [
        "import pandas as pd"
      ],
      "metadata": {
        "id": "NVcl9F3PbveD"
      },
      "execution_count": null,
      "outputs": []
    },
    {
      "cell_type": "code",
      "source": [
        "import json"
      ],
      "metadata": {
        "id": "JPXHEfM4PoJn"
      },
      "execution_count": null,
      "outputs": []
    },
    {
      "cell_type": "code",
      "execution_count": null,
      "metadata": {
        "id": "doZcxlIAbl6h"
      },
      "outputs": [],
      "source": [
        "!pip install openai==0.28"
      ]
    },
    {
      "cell_type": "code",
      "source": [
        "import openai"
      ],
      "metadata": {
        "id": "Rk5UWxfAbsAp"
      },
      "execution_count": null,
      "outputs": []
    },
    {
      "cell_type": "code",
      "source": [
        "openai.api_key = \"Chave de acesso\""
      ],
      "metadata": {
        "id": "4M-ojuDobtzx"
      },
      "execution_count": null,
      "outputs": []
    },
    {
      "cell_type": "markdown",
      "source": [
        "Carregando a Base de dados"
      ],
      "metadata": {
        "id": "WEa7zPPfcCsH"
      }
    },
    {
      "cell_type": "code",
      "source": [
        "from google.colab import drive\n",
        "drive.mount('/content/drive')"
      ],
      "metadata": {
        "id": "kSIfgCUXbxFX"
      },
      "execution_count": null,
      "outputs": []
    },
    {
      "cell_type": "code",
      "source": [
        "df = pd.read_csv('caminho/base.csv')"
      ],
      "metadata": {
        "id": "CIfA2DyhrnJx"
      },
      "execution_count": null,
      "outputs": []
    },
    {
      "cell_type": "code",
      "source": [
        "df"
      ],
      "metadata": {
        "id": "c468MHgYHyFR"
      },
      "execution_count": null,
      "outputs": []
    },
    {
      "cell_type": "markdown",
      "source": [
        "Trocando os vaores da Classe por numeros"
      ],
      "metadata": {
        "id": "5BBGfzCocFdk"
      }
    },
    {
      "cell_type": "code",
      "source": [
        "print(df.classe.value_counts())"
      ],
      "metadata": {
        "id": "BOJ5RWVqH4Le"
      },
      "execution_count": null,
      "outputs": []
    },
    {
      "cell_type": "code",
      "source": [
        "df['classe'] = df['classe'].replace({'Negativo': -1, 'Positivo': 1, 'Neutro': 0})"
      ],
      "metadata": {
        "id": "AeXN0bR2sUJM"
      },
      "execution_count": null,
      "outputs": []
    },
    {
      "cell_type": "code",
      "source": [
        "print(df.classe.value_counts())"
      ],
      "metadata": {
        "id": "b2s6hPzssVSD"
      },
      "execution_count": null,
      "outputs": []
    },
    {
      "cell_type": "markdown",
      "source": [
        "Craindo colunas ba base para guardar os resultados do GPT"
      ],
      "metadata": {
        "id": "8EYxsOetcM9U"
      }
    },
    {
      "cell_type": "code",
      "source": [
        "df['gptpt'] = ''"
      ],
      "metadata": {
        "id": "bB4m3B4HIF_v"
      },
      "execution_count": null,
      "outputs": []
    },
    {
      "cell_type": "code",
      "source": [
        "df"
      ],
      "metadata": {
        "id": "5hJh6Kkdy8gP"
      },
      "execution_count": null,
      "outputs": []
    },
    {
      "cell_type": "code",
      "source": [
        "df['descricaoGptpt'] = ''"
      ],
      "metadata": {
        "id": "1UHM-vuLIGht"
      },
      "execution_count": null,
      "outputs": []
    },
    {
      "cell_type": "code",
      "source": [
        "df"
      ],
      "metadata": {
        "id": "hcWUxWbTy-2i"
      },
      "execution_count": null,
      "outputs": []
    },
    {
      "cell_type": "code",
      "source": [
        "df['erro'] = ''"
      ],
      "metadata": {
        "id": "HjF2tNA6Ukys"
      },
      "execution_count": null,
      "outputs": []
    },
    {
      "cell_type": "code",
      "source": [
        "df"
      ],
      "metadata": {
        "id": "y0o_LvcFADvL"
      },
      "execution_count": null,
      "outputs": []
    },
    {
      "cell_type": "markdown",
      "source": [
        "Enviando para o GPT fazer as classificações"
      ],
      "metadata": {
        "id": "MKzqNb-EciI8"
      }
    },
    {
      "cell_type": "code",
      "source": [
        "def get_completion(prompt, model):\n",
        "  try:\n",
        "    # formatar o prompt como uma mensagem de usuário para a API de chat\n",
        "    messages = [{\"role\": \"user\", \"content\": prompt}]\n",
        "\n",
        "    # chamar a API de chat com o modelo especificado, as mensagens e a temperatura\n",
        "    response = openai.ChatCompletion.create(\n",
        "        model=model,\n",
        "        messages=messages,\n",
        "        temperature=0\n",
        "    )\n",
        "    # retornar o conteúdo da resposta\n",
        "    return response.choices[0].message[\"content\"]\n",
        "  except Exception as e:\n",
        "        return \"erro\""
      ],
      "metadata": {
        "id": "MjWdMzBVRXuc"
      },
      "execution_count": null,
      "outputs": []
    },
    {
      "cell_type": "code",
      "source": [
        "model=\"gpt-3.5-turbo\"\n",
        "\n",
        "for index, row in df.iterrows():\n",
        "  try:\n",
        "        frase = row['tweet']\n",
        "\n",
        "        prompt = \"Classifique a frase '\" + frase + \"' como positiva, negativa ou neutra. \"\\\n",
        "                \"Por fim, explique como você chegou \" \\\n",
        "                \"a essas conclusões. Retorne todas essas informações \" \\\n",
        "                \"no seguinte formato de um objeto JSON: \" \\\n",
        "                \"{\" \\\n",
        "                   \"'classe': 'classe',\" \\\n",
        "                    \"'explicacao_modelo': 'string'\" \\\n",
        "                \"}\"\n",
        "\n",
        "        print(prompt)\n",
        "\n",
        "        response = get_completion(prompt, model)\n",
        "\n",
        "        print(response)\n",
        "\n",
        "        response_dict = json.loads(response)\n",
        "\n",
        "        # Salve o sentimento na coluna correspondente\n",
        "        df.at[index, 'gptpt'] = response_dict['classe']\n",
        "        df.at[index, 'descricaoGptpt'] = response_dict['explicacao_modelo']\n",
        "\n",
        "        print(\"----------------------------------------------------------------------------------------------------------------------------------\")\n",
        "  except Exception as e:\n",
        "      df.at[index, 'erro'] = response_dict"
      ],
      "metadata": {
        "id": "8xOldz7GLAdl"
      },
      "execution_count": null,
      "outputs": []
    },
    {
      "cell_type": "code",
      "source": [
        "df"
      ],
      "metadata": {
        "id": "T8i6URb4x1SK"
      },
      "execution_count": null,
      "outputs": []
    },
    {
      "cell_type": "code",
      "source": [
        "print(df.erro.value_counts())"
      ],
      "metadata": {
        "id": "t0xuu6lax3OS"
      },
      "execution_count": null,
      "outputs": []
    },
    {
      "cell_type": "markdown",
      "source": [
        "Salvando a base classificada"
      ],
      "metadata": {
        "id": "1Lbbp93qcpGZ"
      }
    },
    {
      "cell_type": "code",
      "source": [
        "df.to_csv('caminho/base.csv', index=False)"
      ],
      "metadata": {
        "id": "JpeGC9Pg-q4t"
      },
      "execution_count": null,
      "outputs": []
    },
    {
      "cell_type": "code",
      "source": [
        "print(df.classe.value_counts())"
      ],
      "metadata": {
        "id": "UpKBGJV_0LGL"
      },
      "execution_count": null,
      "outputs": []
    },
    {
      "cell_type": "code",
      "source": [
        "print(df.gptpt.value_counts())"
      ],
      "metadata": {
        "id": "4Ncj1WYa0N_U"
      },
      "execution_count": null,
      "outputs": []
    },
    {
      "cell_type": "code",
      "source": [
        "df"
      ],
      "metadata": {
        "id": "4OoOEGDIuRih"
      },
      "execution_count": null,
      "outputs": []
    },
    {
      "cell_type": "markdown",
      "source": [
        "Passando a rotulação do GPT para numeros"
      ],
      "metadata": {
        "id": "Bjcgoul6cylr"
      }
    },
    {
      "cell_type": "code",
      "source": [
        "df['gptpt'] = df['gptpt'].replace({'negativa': -1, 'positiva': 1, 'neutra':0})"
      ],
      "metadata": {
        "id": "F24B8J-30DN7"
      },
      "execution_count": null,
      "outputs": []
    },
    {
      "cell_type": "code",
      "source": [
        "print(df.gptpt.value_counts())"
      ],
      "metadata": {
        "id": "nDhr84GK0YhL"
      },
      "execution_count": null,
      "outputs": []
    },
    {
      "cell_type": "code",
      "source": [
        "df"
      ],
      "metadata": {
        "id": "NNDufmD-ZgMx"
      },
      "execution_count": null,
      "outputs": []
    },
    {
      "cell_type": "markdown",
      "source": [
        "Apurando as métricas"
      ],
      "metadata": {
        "id": "nMiHgEU5c_QX"
      }
    },
    {
      "cell_type": "code",
      "source": [
        "from sklearn.metrics import accuracy_score, precision_score, recall_score, f1_score\n",
        "def metricas(classe, gpt):\n",
        "  # Calcular as métricas\n",
        "  accuracy = accuracy_score(classe, gpt)\n",
        "  precision = precision_score(classe, gpt, average='weighted')\n",
        "  recall = recall_score(classe, gpt, average='weighted')\n",
        "  f1 = f1_score(classe, gpt, average='weighted')\n",
        "  print(\"Accuracy:\", accuracy)\n",
        "  print(\"Precision:\", precision)\n",
        "  print(\"Recall:\", recall)\n",
        "  print(\"F1-score:\", f1)"
      ],
      "metadata": {
        "id": "V8oMvfR12kjd"
      },
      "execution_count": null,
      "outputs": []
    },
    {
      "cell_type": "code",
      "source": [
        "metricas(df['classe'], df['gptpt'])"
      ],
      "metadata": {
        "id": "kKy7ESNc2qLk"
      },
      "execution_count": null,
      "outputs": []
    },
    {
      "cell_type": "markdown",
      "source": [
        "Criando uma base somente com as diferenças parar poder analisar"
      ],
      "metadata": {
        "id": "jsBlCOSFdEtG"
      }
    },
    {
      "cell_type": "code",
      "source": [
        "df_diff = df[df['classe'] != df['gptpt']]"
      ],
      "metadata": {
        "id": "Jle7HKYO0be0"
      },
      "execution_count": null,
      "outputs": []
    },
    {
      "cell_type": "code",
      "source": [
        "df_diff.to_csv('caminho/base.csv', index=False)"
      ],
      "metadata": {
        "id": "TxaJ5YoD1gtG"
      },
      "execution_count": null,
      "outputs": []
    },
    {
      "cell_type": "code",
      "source": [
        "df_diff"
      ],
      "metadata": {
        "id": "cdeXNQNh1mS8"
      },
      "execution_count": null,
      "outputs": []
    }
  ]
}